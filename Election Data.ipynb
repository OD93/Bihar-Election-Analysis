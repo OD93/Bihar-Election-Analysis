{
 "cells": [
  {
   "cell_type": "code",
   "execution_count": 1,
   "id": "bdff9f75-555b-4b02-bd69-e7b29b91bac1",
   "metadata": {},
   "outputs": [
    {
     "name": "stdout",
     "output_type": "stream",
     "text": [
      "      response_id collection_date urban_rural               education  \\\n",
      "0               1      2020-08-24       Rural               12th Pass   \n",
      "1               2      2020-08-24       Rural                Graduate   \n",
      "2               3      2020-08-24       Rural                Graduate   \n",
      "3               4      2020-08-24       Urban                Graduate   \n",
      "4               5      2020-08-24       Rural                Graduate   \n",
      "...           ...             ...         ...                     ...   \n",
      "6862         6863      2020-09-01       Rural               10th Pass   \n",
      "6863         6864      2020-09-01       Rural                Graduate   \n",
      "6864         6865      2020-09-01       Urban                Graduate   \n",
      "6865         6866      2020-09-01       Rural  Professional Education   \n",
      "6866         6867      2020-09-01       Rural               10th Pass   \n",
      "\n",
      "                   income Vote_Now     Past_Vote     CM_satisfaction  \\\n",
      "0     ₹ 30,000 - ₹ 50,000      BJP           BJP  Fully Dissatisfied   \n",
      "1     ₹ 20,000 - ₹ 30,000     RLSP         JD(U)  Somewhat Satisfied   \n",
      "2      ₹ 5,000 - ₹ 10,000   JAP(L)           BJP  Fully Dissatisfied   \n",
      "3     ₹ 10,000 - ₹ 20,000      RJD           RJD  Fully Dissatisfied   \n",
      "4     ₹ 50,000 - ₹ 80,000    JD(U)  Did not vote     Fully Satisfied   \n",
      "...                   ...      ...           ...                 ...   \n",
      "6862    BPL/Below ₹ 5,000    JD(U)           BJP     Fully Satisfied   \n",
      "6863    BPL/Below ₹ 5,000      RJD           RJD  Fully Dissatisfied   \n",
      "6864   ₹ 5,000 - ₹ 10,000   JAP(L)           RJD           Can’t say   \n",
      "6865  ₹ 10,000 - ₹ 20,000      BJP  Did not vote     Fully Satisfied   \n",
      "6866   ₹ 5,000 - ₹ 10,000   JAP(L)        JAP(L)     Fully Satisfied   \n",
      "\n",
      "        MLA_satisfaction  age gender  assembly_no category    weight  \n",
      "0     Fully Dissatisfied   26   Male          211      Gen  0.346969  \n",
      "1     Fully Dissatisfied   34   Male          189       BC  0.603419  \n",
      "2     Somewhat Satisfied   25   Male          191      Gen  0.673762  \n",
      "3     Somewhat Satisfied   36   Male          194      Gen  1.101298  \n",
      "4        Fully Satisfied   22   Male          176       BC  0.333505  \n",
      "...                  ...  ...    ...          ...      ...       ...  \n",
      "6862  Fully Dissatisfied   25   Male          166      Gen  0.036329  \n",
      "6863  Fully Dissatisfied   30   Male          169       BC  0.252780  \n",
      "6864  Fully Dissatisfied   20   Male          241      Gen  1.812926  \n",
      "6865  Somewhat Satisfied   23   Male          243      Gen  0.080137  \n",
      "6866     Fully Satisfied   33   Male          241      Gen  1.797518  \n",
      "\n",
      "[6867 rows x 14 columns]\n"
     ]
    }
   ],
   "source": [
    "import pandas as pd\n",
    "survey = pd.read_excel('Sample Survey.xlsx')\n",
    "print (survey)"
   ]
  },
  {
   "cell_type": "code",
   "execution_count": 2,
   "id": "6ee25ea3-3f45-4433-9157-2d6f53a0db9a",
   "metadata": {},
   "outputs": [
    {
     "data": {
      "text/plain": [
       "collection_date\n",
       "2020-08-24    1479\n",
       "2020-08-25     998\n",
       "2020-08-26     598\n",
       "2020-08-27     665\n",
       "2020-08-28     761\n",
       "2020-08-29     620\n",
       "2020-08-30     582\n",
       "2020-08-31     557\n",
       "2020-09-01     607\n",
       "Name: count, dtype: int64"
      ]
     },
     "execution_count": 2,
     "metadata": {},
     "output_type": "execute_result"
    }
   ],
   "source": [
    "survey['count'] = 1\n",
    "survey.groupby(['collection_date']).count()['count']"
   ]
  },
  {
   "cell_type": "code",
   "execution_count": 3,
   "id": "80ad3209-bf10-459a-81a3-92e535e90287",
   "metadata": {},
   "outputs": [
    {
     "data": {
      "text/plain": [
       "95.25265763797874"
      ]
     },
     "execution_count": 3,
     "metadata": {},
     "output_type": "execute_result"
    }
   ],
   "source": [
    "x = sum(survey['age'].value_counts().loc[lambda x : x>45])\n",
    "y = sum(survey['age'].value_counts())\n",
    "x/y*100"
   ]
  },
  {
   "cell_type": "code",
   "execution_count": 4,
   "id": "d6757b10-5d3c-4e24-b73d-5f00261f5bd7",
   "metadata": {},
   "outputs": [
    {
     "data": {
      "text/html": [
       "<div>\n",
       "<style scoped>\n",
       "    .dataframe tbody tr th:only-of-type {\n",
       "        vertical-align: middle;\n",
       "    }\n",
       "\n",
       "    .dataframe tbody tr th {\n",
       "        vertical-align: top;\n",
       "    }\n",
       "\n",
       "    .dataframe thead th {\n",
       "        text-align: right;\n",
       "    }\n",
       "</style>\n",
       "<table border=\"1\" class=\"dataframe\">\n",
       "  <thead>\n",
       "    <tr style=\"text-align: right;\">\n",
       "      <th></th>\n",
       "      <th>response_id</th>\n",
       "      <th>agegroup</th>\n",
       "      <th>age</th>\n",
       "    </tr>\n",
       "  </thead>\n",
       "  <tbody>\n",
       "    <tr>\n",
       "      <th>0</th>\n",
       "      <td>1</td>\n",
       "      <td>40-55</td>\n",
       "      <td>26</td>\n",
       "    </tr>\n",
       "    <tr>\n",
       "      <th>1</th>\n",
       "      <td>2</td>\n",
       "      <td>40-55</td>\n",
       "      <td>34</td>\n",
       "    </tr>\n",
       "    <tr>\n",
       "      <th>2</th>\n",
       "      <td>3</td>\n",
       "      <td>40-55</td>\n",
       "      <td>25</td>\n",
       "    </tr>\n",
       "    <tr>\n",
       "      <th>3</th>\n",
       "      <td>4</td>\n",
       "      <td>40-55</td>\n",
       "      <td>36</td>\n",
       "    </tr>\n",
       "    <tr>\n",
       "      <th>4</th>\n",
       "      <td>5</td>\n",
       "      <td>25-40</td>\n",
       "      <td>22</td>\n",
       "    </tr>\n",
       "    <tr>\n",
       "      <th>...</th>\n",
       "      <td>...</td>\n",
       "      <td>...</td>\n",
       "      <td>...</td>\n",
       "    </tr>\n",
       "    <tr>\n",
       "      <th>6862</th>\n",
       "      <td>6863</td>\n",
       "      <td>40-55</td>\n",
       "      <td>25</td>\n",
       "    </tr>\n",
       "    <tr>\n",
       "      <th>6863</th>\n",
       "      <td>6864</td>\n",
       "      <td>40-55</td>\n",
       "      <td>30</td>\n",
       "    </tr>\n",
       "    <tr>\n",
       "      <th>6864</th>\n",
       "      <td>6865</td>\n",
       "      <td>25-40</td>\n",
       "      <td>20</td>\n",
       "    </tr>\n",
       "    <tr>\n",
       "      <th>6865</th>\n",
       "      <td>6866</td>\n",
       "      <td>25-40</td>\n",
       "      <td>23</td>\n",
       "    </tr>\n",
       "    <tr>\n",
       "      <th>6866</th>\n",
       "      <td>6867</td>\n",
       "      <td>40-55</td>\n",
       "      <td>33</td>\n",
       "    </tr>\n",
       "  </tbody>\n",
       "</table>\n",
       "<p>6867 rows × 3 columns</p>\n",
       "</div>"
      ],
      "text/plain": [
       "      response_id agegroup  age\n",
       "0               1    40-55   26\n",
       "1               2    40-55   34\n",
       "2               3    40-55   25\n",
       "3               4    40-55   36\n",
       "4               5    25-40   22\n",
       "...           ...      ...  ...\n",
       "6862         6863    40-55   25\n",
       "6863         6864    40-55   30\n",
       "6864         6865    25-40   20\n",
       "6865         6866    25-40   23\n",
       "6866         6867    40-55   33\n",
       "\n",
       "[6867 rows x 3 columns]"
      ]
     },
     "execution_count": 4,
     "metadata": {},
     "output_type": "execute_result"
    }
   ],
   "source": [
    "age_group = survey.assign(agegroup=pd.cut(survey['age'], bins=[0,18,25,40,55], right=False, labels=['18-25','25-40','40-55','55+']))\n",
    "cols = list(age_group.columns)\n",
    "age_group = age_group[[cols[0]]+[cols[-1]]+[cols[9]]]\n",
    "age_group"
   ]
  },
  {
   "cell_type": "code",
   "execution_count": 5,
   "id": "21e44093-f002-47ab-8fe7-655b8e5e0c87",
   "metadata": {},
   "outputs": [
    {
     "data": {
      "text/plain": [
       "40-55    3844\n",
       "25-40    2094\n",
       "55+       801\n",
       "18-25       0\n",
       "Name: agegroup, dtype: int64"
      ]
     },
     "execution_count": 5,
     "metadata": {},
     "output_type": "execute_result"
    }
   ],
   "source": [
    "age_group['agegroup'].value_counts()"
   ]
  },
  {
   "cell_type": "code",
   "execution_count": 6,
   "id": "93ccb2a3-a1a5-496e-88e6-86631e0280e7",
   "metadata": {},
   "outputs": [
    {
     "data": {
      "text/plain": [
       "40-55    3844\n",
       "Name: agegroup, dtype: int64"
      ]
     },
     "execution_count": 6,
     "metadata": {},
     "output_type": "execute_result"
    }
   ],
   "source": [
    "age_group['agegroup'].value_counts()[:1].sort_values(ascending=False)"
   ]
  },
  {
   "cell_type": "code",
   "execution_count": 7,
   "id": "5b7fb05c-bd3f-414a-b1f1-4b45c049a8bc",
   "metadata": {},
   "outputs": [
    {
     "data": {
      "text/plain": [
       "(RJD    29.06655\n",
       " Name: Vote_Now, dtype: float64,\n",
       " RJD    15.246833\n",
       " Name: Past_Vote, dtype: float64)"
      ]
     },
     "execution_count": 7,
     "metadata": {},
     "output_type": "execute_result"
    }
   ],
   "source": [
    "proportion_1 = survey['Vote_Now'].value_counts(normalize=True) * 100\n",
    "proportion_1.loc[[\"RJD\"]]\n",
    "proportion_2 = survey['Past_Vote'].value_counts(normalize=True) * 100\n",
    "proportion_2.loc[[\"RJD\"]]\n",
    "proportion_1.loc[[\"RJD\"]],proportion_2.loc[[\"RJD\"]]"
   ]
  },
  {
   "cell_type": "code",
   "execution_count": 10,
   "id": "ba2e0aaa-3f2a-4041-9050-7b96227dc272",
   "metadata": {},
   "outputs": [
    {
     "data": {
      "text/plain": [
       "collection_date  MLA_satisfaction     \n",
       "2020-08-24       Can’t say                 5.070994\n",
       "                 Fully Dissatisfied       59.972955\n",
       "                 Fully Satisfied          10.141988\n",
       "                 Somewhat Dissatisfied     8.181204\n",
       "                 Somewhat Satisfied       16.632860\n",
       "2020-08-25       Can’t say                 4.609218\n",
       "                 Fully Dissatisfied       63.126253\n",
       "                 Fully Satisfied           7.214429\n",
       "                 Somewhat Dissatisfied     7.014028\n",
       "                 Somewhat Satisfied       18.036072\n",
       "2020-08-26       Can’t say                 5.685619\n",
       "                 Fully Dissatisfied       59.030100\n",
       "                 Fully Satisfied          10.367893\n",
       "                 Somewhat Dissatisfied     7.023411\n",
       "                 Somewhat Satisfied       17.892977\n",
       "2020-08-27       Can’t say                 5.563910\n",
       "                 Fully Dissatisfied       60.601504\n",
       "                 Fully Satisfied           9.172932\n",
       "                 Somewhat Dissatisfied     8.571429\n",
       "                 Somewhat Satisfied       16.090226\n",
       "2020-08-28       Can’t say                 4.993430\n",
       "                 Fully Dissatisfied       60.709593\n",
       "                 Fully Satisfied          10.249671\n",
       "                 Somewhat Dissatisfied     7.358739\n",
       "                 Somewhat Satisfied       16.688568\n",
       "2020-08-29       Can’t say                 5.645161\n",
       "                 Fully Dissatisfied       56.451613\n",
       "                 Fully Satisfied          11.451613\n",
       "                 Somewhat Dissatisfied     8.709677\n",
       "                 Somewhat Satisfied       17.741935\n",
       "2020-08-30       Can’t say                 4.810997\n",
       "                 Fully Dissatisfied       62.027491\n",
       "                 Fully Satisfied          10.652921\n",
       "                 Somewhat Dissatisfied     5.670103\n",
       "                 Somewhat Satisfied       16.838488\n",
       "2020-08-31       Can’t say                 5.385996\n",
       "                 Fully Dissatisfied       57.630162\n",
       "                 Fully Satisfied          10.592460\n",
       "                 Somewhat Dissatisfied     8.078995\n",
       "                 Somewhat Satisfied       18.312388\n",
       "2020-09-01       Can’t say                 4.448105\n",
       "                 Fully Dissatisfied       63.426689\n",
       "                 Fully Satisfied           9.060956\n",
       "                 Somewhat Dissatisfied     8.072488\n",
       "                 Somewhat Satisfied       14.991763\n",
       "Name: count, dtype: float64"
      ]
     },
     "execution_count": 10,
     "metadata": {},
     "output_type": "execute_result"
    }
   ],
   "source": [
    "survey['count'] = 1\n",
    "(survey.groupby(['collection_date','MLA_satisfaction']).count()['count'])/(survey.groupby(['collection_date']).count()['count'])*100"
   ]
  },
  {
   "cell_type": "code",
   "execution_count": 11,
   "id": "aff0b143-ae05-4389-9f4d-88d89b085c60",
   "metadata": {},
   "outputs": [
    {
     "data": {
      "text/plain": [
       "collection_date  CM_satisfaction      \n",
       "2020-08-24       Can’t say                 2.772143\n",
       "                 Fully Dissatisfied       43.407708\n",
       "                 Fully Satisfied           9.871535\n",
       "                 Somewhat Dissatisfied     9.939148\n",
       "                 Somewhat Satisfied       34.009466\n",
       "2020-08-25       Can’t say                 3.406814\n",
       "                 Fully Dissatisfied       43.386774\n",
       "                 Fully Satisfied           9.519038\n",
       "                 Somewhat Dissatisfied     9.018036\n",
       "                 Somewhat Satisfied       34.669339\n",
       "2020-08-26       Can’t say                 3.678930\n",
       "                 Fully Dissatisfied       43.143813\n",
       "                 Fully Satisfied           9.866221\n",
       "                 Somewhat Dissatisfied     8.528428\n",
       "                 Somewhat Satisfied       34.782609\n",
       "2020-08-27       Can’t say                 3.458647\n",
       "                 Fully Dissatisfied       44.210526\n",
       "                 Fully Satisfied           8.120301\n",
       "                 Somewhat Dissatisfied    11.879699\n",
       "                 Somewhat Satisfied       32.330827\n",
       "2020-08-28       Can’t say                 3.810775\n",
       "                 Fully Dissatisfied       45.860710\n",
       "                 Fully Satisfied          12.089356\n",
       "                 Somewhat Dissatisfied    10.775296\n",
       "                 Somewhat Satisfied       27.463863\n",
       "2020-08-29       Can’t say                 3.387097\n",
       "                 Fully Dissatisfied       45.645161\n",
       "                 Fully Satisfied          11.774194\n",
       "                 Somewhat Dissatisfied    10.645161\n",
       "                 Somewhat Satisfied       28.548387\n",
       "2020-08-30       Can’t say                 2.749141\n",
       "                 Fully Dissatisfied       42.955326\n",
       "                 Fully Satisfied          11.168385\n",
       "                 Somewhat Dissatisfied     9.450172\n",
       "                 Somewhat Satisfied       33.676976\n",
       "2020-08-31       Can’t say                 4.129264\n",
       "                 Fully Dissatisfied       45.062837\n",
       "                 Fully Satisfied          11.131059\n",
       "                 Somewhat Dissatisfied     9.156194\n",
       "                 Somewhat Satisfied       30.520646\n",
       "2020-09-01       Can’t say                 4.448105\n",
       "                 Fully Dissatisfied       41.515651\n",
       "                 Fully Satisfied          12.355848\n",
       "                 Somewhat Dissatisfied     9.719934\n",
       "                 Somewhat Satisfied       31.960461\n",
       "Name: count, dtype: float64"
      ]
     },
     "execution_count": 11,
     "metadata": {},
     "output_type": "execute_result"
    }
   ],
   "source": [
    "survey['count'] = 1\n",
    "(survey.groupby(['collection_date','CM_satisfaction']).count()['count'])/(survey.groupby(['collection_date']).count()['count'])*100"
   ]
  },
  {
   "cell_type": "code",
   "execution_count": null,
   "id": "2ac31534-aa85-4a2d-8920-8c28ba2d00d0",
   "metadata": {},
   "outputs": [],
   "source": []
  }
 ],
 "metadata": {
  "kernelspec": {
   "display_name": "Python 3 (ipykernel)",
   "language": "python",
   "name": "python3"
  },
  "language_info": {
   "codemirror_mode": {
    "name": "ipython",
    "version": 3
   },
   "file_extension": ".py",
   "mimetype": "text/x-python",
   "name": "python",
   "nbconvert_exporter": "python",
   "pygments_lexer": "ipython3",
   "version": "3.9.7"
  }
 },
 "nbformat": 4,
 "nbformat_minor": 5
}
